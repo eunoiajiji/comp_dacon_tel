{
 "cells": [
  {
   "cell_type": "markdown",
   "id": "25ea00d7-9646-438c-83eb-f127f5cf0407",
   "metadata": {},
   "source": [
    "# 신용카드 이상탐지"
   ]
  },
  {
   "cell_type": "markdown",
   "id": "7ebd2259-cace-4aaa-a5bd-6ab3306463bb",
   "metadata": {},
   "source": [
    "ref : https://www.kaggle.com/datasets/mlg-ulb/creditcardfraud"
   ]
  },
  {
   "cell_type": "code",
   "execution_count": 1,
   "id": "d9af4e53-ec0d-45b8-890c-8f8eb2a0bf36",
   "metadata": {
    "tags": []
   },
   "outputs": [
    {
     "data": {
      "text/html": [
       "<style>.container{width:100% !important;}</style>"
      ],
      "text/plain": [
       "<IPython.core.display.HTML object>"
      ]
     },
     "metadata": {},
     "output_type": "display_data"
    }
   ],
   "source": [
    "import numpy as np\n",
    "import pandas as pd\n",
    "\n",
    "import matplotlib.pyplot as plt\n",
    "import seaborn as sns\n",
    "\n",
    "sns.set()\n",
    "\n",
    "#-------------------- 차트 관련 속성 (한글처리, 그리드) -----------\n",
    "plt.rcParams['font.family']= 'Malgun Gothic'\n",
    "plt.rcParams['axes.unicode_minus'] = False\n",
    "\n",
    "#-------------------- 주피터 , 출력결과 넓이 늘리기 ---------------\n",
    "# from IPython.core.display import display, HTML\n",
    "from IPython.display import display, HTML\n",
    "\n",
    "display(HTML(\"<style>.container{width:100% !important;}</style>\"))\n",
    "pd.set_option('display.max_rows', 100)\n",
    "pd.set_option('display.max_columns', 100)\n",
    "pd.set_option('max_colwidth', None)\n",
    "\n",
    "import warnings\n",
    "warnings.filterwarnings(action='ignore')"
   ]
  },
  {
   "cell_type": "code",
   "execution_count": 2,
   "id": "560e6d15-37a3-4ef5-b6d2-40c9200397bc",
   "metadata": {},
   "outputs": [],
   "source": [
    "# ==============================학습 ==============================\n",
    "from sklearn.model_selection import train_test_split, cross_val_score, cross_validate, GridSearchCV, KFold, StratifiedKFold\n",
    "from sklearn.metrics import mean_squared_error, mean_squared_log_error, accuracy_score, f1_score, precision_score, recall_score, classification_report, confusion_matrix\n",
    "from sklearn.preprocessing import RobustScaler, MinMaxScaler, StandardScaler\n",
    "from sklearn.ensemble     import RandomForestClassifier\n",
    "from sklearn.tree         import DecisionTreeClassifier\n",
    "from sklearn.linear_model import Ridge, Lasso\n",
    "from sklearn.impute       import SimpleImputer\n",
    "# ---- 추가 모델\n",
    "from sklearn.ensemble     import AdaBoostClassifier, VotingClassifier\n",
    "from xgboost              import XGBClassifier\n",
    "from lightgbm             import LGBMClassifier\n",
    "from catboost             import CatBoostClassifier # -> 카테고리성에서 아주 좋은 성능\n",
    "\n",
    "#============================== 평가 =============================\n",
    "from sklearn.metrics import confusion_matrix # 오차행렬\n",
    "from sklearn.metrics import classification_report # f1, 정밀도, 재현율\n",
    "from sklearn.metrics import accuracy_score\n",
    "from sklearn.metrics import f1_score, precision_score, recall_score\n",
    "\n",
    "from sklearn.metrics import precision_recall_curve, plot_precision_recall_curve\n",
    "from sklearn.metrics import auc, roc_auc_score, roc_curve, plot_roc_curve\n"
   ]
  },
  {
   "cell_type": "markdown",
   "id": "c315dc57-2132-49c7-bf3b-d7c1bdad9d29",
   "metadata": {},
   "source": [
    "# Data Load"
   ]
  },
  {
   "cell_type": "code",
   "execution_count": 3,
   "id": "52454cf1-a8a7-430d-8498-56847df93d8a",
   "metadata": {
    "tags": []
   },
   "outputs": [
    {
     "name": "stdout",
     "output_type": "stream",
     "text": [
      "<class 'pandas.core.frame.DataFrame'>\n",
      "RangeIndex: 284807 entries, 0 to 284806\n",
      "Data columns (total 31 columns):\n",
      " #   Column  Non-Null Count   Dtype  \n",
      "---  ------  --------------   -----  \n",
      " 0   Time    284807 non-null  float64\n",
      " 1   V1      284807 non-null  float64\n",
      " 2   V2      284807 non-null  float64\n",
      " 3   V3      284807 non-null  float64\n",
      " 4   V4      284807 non-null  float64\n",
      " 5   V5      284807 non-null  float64\n",
      " 6   V6      284807 non-null  float64\n",
      " 7   V7      284807 non-null  float64\n",
      " 8   V8      284807 non-null  float64\n",
      " 9   V9      284807 non-null  float64\n",
      " 10  V10     284807 non-null  float64\n",
      " 11  V11     284807 non-null  float64\n",
      " 12  V12     284807 non-null  float64\n",
      " 13  V13     284807 non-null  float64\n",
      " 14  V14     284807 non-null  float64\n",
      " 15  V15     284807 non-null  float64\n",
      " 16  V16     284807 non-null  float64\n",
      " 17  V17     284807 non-null  float64\n",
      " 18  V18     284807 non-null  float64\n",
      " 19  V19     284807 non-null  float64\n",
      " 20  V20     284807 non-null  float64\n",
      " 21  V21     284807 non-null  float64\n",
      " 22  V22     284807 non-null  float64\n",
      " 23  V23     284807 non-null  float64\n",
      " 24  V24     284807 non-null  float64\n",
      " 25  V25     284807 non-null  float64\n",
      " 26  V26     284807 non-null  float64\n",
      " 27  V27     284807 non-null  float64\n",
      " 28  V28     284807 non-null  float64\n",
      " 29  Amount  284807 non-null  float64\n",
      " 30  Class   284807 non-null  int64  \n",
      "dtypes: float64(30), int64(1)\n",
      "memory usage: 67.4 MB\n"
     ]
    }
   ],
   "source": [
    "df = pd.read_csv('./datasets/creditcard.csv')\n",
    "df.info()"
   ]
  },
  {
   "cell_type": "markdown",
   "id": "75881e51-ec17-48ac-8563-9780a892fdf9",
   "metadata": {},
   "source": [
    "- V들은 개안정보들을 -> PCA 한 값 "
   ]
  },
  {
   "cell_type": "markdown",
   "id": "fe16384a-8169-427c-bf4a-91c13e29ac51",
   "metadata": {},
   "source": [
    "# EDA"
   ]
  },
  {
   "cell_type": "markdown",
   "id": "ffea1237-ae5d-4b47-a63e-ebeeef81c760",
   "metadata": {},
   "source": [
    "## Target feature : Class -> 불균형"
   ]
  },
  {
   "cell_type": "code",
   "execution_count": 4,
   "id": "8ac07980-9c68-4abd-854b-453d6c0edaf6",
   "metadata": {
    "tags": []
   },
   "outputs": [
    {
     "name": "stdout",
     "output_type": "stream",
     "text": [
      "0    284315\n",
      "1       492\n",
      "Name: Class, dtype: int64\n",
      "1의 비율  : 0.1727485630620034 %\n"
     ]
    }
   ],
   "source": [
    "print(df['Class'].value_counts())\n",
    "print(f\"1의 비율  : { (len( df[df['Class']==1]) / len(df)) *100} %\")\n"
   ]
  },
  {
   "cell_type": "markdown",
   "id": "eda3bf39-0157-46b0-9969-48a5224b5252",
   "metadata": {},
   "source": [
    "## 시각화"
   ]
  },
  {
   "cell_type": "code",
   "execution_count": 5,
   "id": "ba2d5eec-f565-4575-8146-69915a32952f",
   "metadata": {
    "tags": []
   },
   "outputs": [
    {
     "data": {
      "image/png": "[encoded data removed]",
      "text/plain": [
       "<Figure size 1200x1200 with 36 Axes>"
      ]
     },
     "metadata": {},
     "output_type": "display_data"
    }
   ],
   "source": [
    "df.hist(figsize=(12,12))\n",
    "plt.tight_layout()\n",
    "plt.show()"
   ]
  },
  {
   "cell_type": "code",
   "execution_count": 6,
   "id": "edb7dccb-4dd3-4b60-8c2f-1db858d06b9a",
   "metadata": {},
   "outputs": [
    {
     "data": {
      "image/png": "[encoded data removed]",
      "text/plain": [
       "<Figure size 640x480 with 1 Axes>"
      ]
     },
     "metadata": {},
     "output_type": "display_data"
    }
   ],
   "source": [
    "sns.boxplot(y = df['Time'], x = df['Class'])\n",
    "plt.show()"
   ]
  },
  {
   "cell_type": "code",
   "execution_count": 17,
   "id": "80cb321e-88c9-4f97-be32-34690119f380",
   "metadata": {
    "tags": []
   },
   "outputs": [
    {
     "data": {
      "image/png": "[encoded data removed]",
      "text/plain": [
       "<Figure size 640x480 with 2 Axes>"
      ]
     },
     "metadata": {},
     "output_type": "display_data"
    }
   ],
   "source": [
    "sns.heatmap(df.corr(),cmap='coolwarm')\n",
    "plt.show()"
   ]
  },
  {
   "cell_type": "code",
   "execution_count": null,
   "id": "b0cf4fa0-921c-4037-9a59-f7cc90ba9398",
   "metadata": {
    "tags": []
   },
   "outputs": [],
   "source": [
    "print(df.corr().nlargest(5,'Class').index.values) # ['Class' 'V11' 'V4' 'V2' 'V21']\n",
    "print(df.corr().nsmallest(5,'Class').index.values) # ['V17' 'V14' 'V12' 'V10' 'V16']"
   ]
  },
  {
   "cell_type": "code",
   "execution_count": null,
   "id": "d487d9fc-c173-44ea-b678-c714907388e5",
   "metadata": {},
   "outputs": [],
   "source": [
    "fig,ax = subplots(1,2)\n",
    "sns.heatmap(df[['Class' ,'V11', 'V4', 'V2', 'V21']].corr(),annot=True,fmt='.2f',ax=ax[0])\n",
    "sns.heatmap(df[['V17' ,'V14', 'V12' ,'V10', 'V16']].corr(),annot=True,fmt='.2f', ax= ax[0])\n",
    "plt.show()"
   ]
  },
  {
   "cell_type": "code",
   "execution_count": null,
   "id": "70f18876-f1e9-4202-a9a8-6a5a44de5327",
   "metadata": {
    "tags": []
   },
   "outputs": [],
   "source": [
    "# import pandas_profiling\n",
    "# report = pandas_profiling.ProfileReport(df)\n",
    "# report"
   ]
  },
  {
   "cell_type": "markdown",
   "id": "ae3148ba-96e0-453c-99cb-ed3fe39b6904",
   "metadata": {},
   "source": [
    "# 학습 & 평가\n",
    "<pre>\n",
    "f1_score : 0.74713\n",
    "정밀도 : 0.74713\n",
    "재현율 : 0.74713\n",
    "accuracy_score : 0.99923"
   ]
  },
  {
   "cell_type": "code",
   "execution_count": 10,
   "id": "14e785b9-9e81-4bd0-8ab5-655237747b23",
   "metadata": {
    "tags": []
   },
   "outputs": [
    {
     "name": "stdout",
     "output_type": "stream",
     "text": [
      "f1_score : 0.74713\n",
      "정밀도 : 0.74713\n",
      "재현율 : 0.74713\n",
      "accuracy_score : 0.99923\n"
     ]
    }
   ],
   "source": [
    "X = df.drop('Class', axis = 1)\n",
    "y = df['Class']\n",
    "model = DecisionTreeClassifier(random_state=1)\n",
    "X_train,X_test, y_train, y_test = train_test_split(X,y,random_state = 1,test_size=0.2)\n",
    "model.fit(X_train,y_train)\n",
    "pre=model.predict(X_test)\n",
    "score=accuracy_score(y_test, pre)\n",
    "\n",
    "print(f'f1_score : {f1_score(y_test,pre):.5}')\n",
    "print(f'정밀도 : {precision_score(y_test,pre):.5}')\n",
    "print(f'재현율 : {recall_score(y_test,pre):.5}')\n",
    "print(f'accuracy_score : {score:.5}')"
   ]
  },
  {
   "cell_type": "code",
   "execution_count": null,
   "id": "f8c5a1ef-bccd-4be3-bc26-4bd08e93cb25",
   "metadata": {
    "tags": []
   },
   "outputs": [],
   "source": [
    "# print(classification_report(y_test,pre))"
   ]
  },
  {
   "cell_type": "markdown",
   "id": "b3d606bd-6997-4331-925d-7eba60ce4cf9",
   "metadata": {},
   "source": [
    "# 데이터 증강"
   ]
  },
  {
   "cell_type": "markdown",
   "id": "3be26b6a-2c66-47dc-937a-e8aaab76758d",
   "metadata": {},
   "source": [
    "- ref : https://casa-de-feel.tistory.com/15\n",
    "- sampling 종류"
   ]
  },
  {
   "cell_type": "markdown",
   "id": "90bf54d6-9874-4d0c-a9ac-2a20dd27c64a",
   "metadata": {},
   "source": [
    "## under sampling vs over sampling\n",
    "- 일반적으로 over sampling을 사용 -> 주로 KNN사용"
   ]
  },
  {
   "cell_type": "markdown",
   "id": "c71fa05e-740f-4ff4-8381-f53b56801b78",
   "metadata": {},
   "source": [
    "<img src = 'https://img1.daumcdn.net/thumb/R1280x0/?scode=mtistory2&fname=https%3A%2F%2Fblog.kakaocdn.net%2Fdn%2F2yuj6%2FbtqGirRpGhD%2FhmIPmKkQ6WMJ0PbpZZ5Wk0%2Fimg.png' width= '700'>"
   ]
  },
  {
   "cell_type": "markdown",
   "id": "6234b262-4dea-4417-904d-531577a1bbce",
   "metadata": {},
   "source": [
    "### Under Sampling\n",
    "- 작은 데이터에 맞춘다\n",
    "- 큰 데이터를 작게 \n",
    "- 단점 : 정보손실"
   ]
  },
  {
   "cell_type": "markdown",
   "id": "b5d6997f-8afe-4938-bb55-20a0ecdd371d",
   "metadata": {},
   "source": [
    "#### 방법1. df.sample() 이용 "
   ]
  },
  {
   "cell_type": "code",
   "execution_count": 9,
   "id": "66700cf0-42df-4911-9b76-f616cbcd250e",
   "metadata": {
    "tags": []
   },
   "outputs": [
    {
     "data": {
      "text/plain": [
       "492"
      ]
     },
     "execution_count": 9,
     "metadata": {},
     "output_type": "execute_result"
    }
   ],
   "source": [
    "len(df[df['Class']==1]) # 492"
   ]
  },
  {
   "cell_type": "code",
   "execution_count": 29,
   "id": "8760659d-0fc0-431c-9776-5586a4873469",
   "metadata": {},
   "outputs": [
    {
     "name": "stdout",
     "output_type": "stream",
     "text": [
      "(492, 31) (492, 31)\n",
      "0    492\n",
      "Name: Class, dtype: int64\n",
      "1    492\n",
      "Name: Class, dtype: int64\n"
     ]
    }
   ],
   "source": [
    "df0 = df[df['Class']==0].sample(n=492, random_state=111, ignore_index=True)\n",
    "df1 = df[df['Class']==1]\n",
    "\n",
    "print(df0.shape, df1.shape)\n",
    "print( df0['Class'].value_counts())\n",
    "print( df1['Class'].value_counts())"
   ]
  },
  {
   "cell_type": "code",
   "execution_count": 44,
   "id": "4f77da48-53a1-4796-85fd-8d0b54fed580",
   "metadata": {},
   "outputs": [
    {
     "name": "stdout",
     "output_type": "stream",
     "text": [
      "(284807, 31)\n",
      "0    284315\n",
      "1       492\n",
      "Name: Class, dtype: int64\n"
     ]
    }
   ],
   "source": [
    "df_under = pd.concat([df0,df1],ignore_index=True, axis=0)\n",
    "\n",
    "print(df_under.shape)\n",
    "print(df_under['Class'].value_counts())"
   ]
  },
  {
   "cell_type": "code",
   "execution_count": 45,
   "id": "845fab7c-d470-4c68-bafe-057849bc8a08",
   "metadata": {
    "tags": []
   },
   "outputs": [
    {
     "data": {
      "text/html": [
       "<div>\n",
       "<style scoped>\n",
       "    .dataframe tbody tr th:only-of-type {\n",
       "        vertical-align: middle;\n",
       "    }\n",
       "\n",
       "    .dataframe tbody tr th {\n",
       "        vertical-align: top;\n",
       "    }\n",
       "\n",
       "    .dataframe thead th {\n",
       "        text-align: right;\n",
       "    }\n",
       "</style>\n",
       "<table border=\"1\" class=\"dataframe\">\n",
       "  <thead>\n",
       "    <tr style=\"text-align: right;\">\n",
       "      <th></th>\n",
       "      <th>Time</th>\n",
       "      <th>V1</th>\n",
       "      <th>V2</th>\n",
       "      <th>V3</th>\n",
       "      <th>V4</th>\n",
       "      <th>V5</th>\n",
       "      <th>V6</th>\n",
       "      <th>V7</th>\n",
       "      <th>V8</th>\n",
       "      <th>V9</th>\n",
       "      <th>V10</th>\n",
       "      <th>V11</th>\n",
       "      <th>V12</th>\n",
       "      <th>V13</th>\n",
       "      <th>V14</th>\n",
       "      <th>V15</th>\n",
       "      <th>V16</th>\n",
       "      <th>V17</th>\n",
       "      <th>V18</th>\n",
       "      <th>V19</th>\n",
       "      <th>V20</th>\n",
       "      <th>V21</th>\n",
       "      <th>V22</th>\n",
       "      <th>V23</th>\n",
       "      <th>V24</th>\n",
       "      <th>V25</th>\n",
       "      <th>V26</th>\n",
       "      <th>V27</th>\n",
       "      <th>V28</th>\n",
       "      <th>Amount</th>\n",
       "      <th>Class</th>\n",
       "    </tr>\n",
       "  </thead>\n",
       "  <tbody>\n",
       "    <tr>\n",
       "      <th>0</th>\n",
       "      <td>0.0</td>\n",
       "      <td>-1.359807</td>\n",
       "      <td>-0.072781</td>\n",
       "      <td>2.536347</td>\n",
       "      <td>1.378155</td>\n",
       "      <td>-0.338321</td>\n",
       "      <td>0.462388</td>\n",
       "      <td>0.239599</td>\n",
       "      <td>0.098698</td>\n",
       "      <td>0.363787</td>\n",
       "      <td>0.090794</td>\n",
       "      <td>-0.551600</td>\n",
       "      <td>-0.617801</td>\n",
       "      <td>-0.991390</td>\n",
       "      <td>-0.311169</td>\n",
       "      <td>1.468177</td>\n",
       "      <td>-0.470401</td>\n",
       "      <td>0.207971</td>\n",
       "      <td>0.025791</td>\n",
       "      <td>0.403993</td>\n",
       "      <td>0.251412</td>\n",
       "      <td>-0.018307</td>\n",
       "      <td>0.277838</td>\n",
       "      <td>-0.110474</td>\n",
       "      <td>0.066928</td>\n",
       "      <td>0.128539</td>\n",
       "      <td>-0.189115</td>\n",
       "      <td>0.133558</td>\n",
       "      <td>-0.021053</td>\n",
       "      <td>149.62</td>\n",
       "      <td>0</td>\n",
       "    </tr>\n",
       "    <tr>\n",
       "      <th>1</th>\n",
       "      <td>0.0</td>\n",
       "      <td>1.191857</td>\n",
       "      <td>0.266151</td>\n",
       "      <td>0.166480</td>\n",
       "      <td>0.448154</td>\n",
       "      <td>0.060018</td>\n",
       "      <td>-0.082361</td>\n",
       "      <td>-0.078803</td>\n",
       "      <td>0.085102</td>\n",
       "      <td>-0.255425</td>\n",
       "      <td>-0.166974</td>\n",
       "      <td>1.612727</td>\n",
       "      <td>1.065235</td>\n",
       "      <td>0.489095</td>\n",
       "      <td>-0.143772</td>\n",
       "      <td>0.635558</td>\n",
       "      <td>0.463917</td>\n",
       "      <td>-0.114805</td>\n",
       "      <td>-0.183361</td>\n",
       "      <td>-0.145783</td>\n",
       "      <td>-0.069083</td>\n",
       "      <td>-0.225775</td>\n",
       "      <td>-0.638672</td>\n",
       "      <td>0.101288</td>\n",
       "      <td>-0.339846</td>\n",
       "      <td>0.167170</td>\n",
       "      <td>0.125895</td>\n",
       "      <td>-0.008983</td>\n",
       "      <td>0.014724</td>\n",
       "      <td>2.69</td>\n",
       "      <td>0</td>\n",
       "    </tr>\n",
       "    <tr>\n",
       "      <th>2</th>\n",
       "      <td>1.0</td>\n",
       "      <td>-1.358354</td>\n",
       "      <td>-1.340163</td>\n",
       "      <td>1.773209</td>\n",
       "      <td>0.379780</td>\n",
       "      <td>-0.503198</td>\n",
       "      <td>1.800499</td>\n",
       "      <td>0.791461</td>\n",
       "      <td>0.247676</td>\n",
       "      <td>-1.514654</td>\n",
       "      <td>0.207643</td>\n",
       "      <td>0.624501</td>\n",
       "      <td>0.066084</td>\n",
       "      <td>0.717293</td>\n",
       "      <td>-0.165946</td>\n",
       "      <td>2.345865</td>\n",
       "      <td>-2.890083</td>\n",
       "      <td>1.109969</td>\n",
       "      <td>-0.121359</td>\n",
       "      <td>-2.261857</td>\n",
       "      <td>0.524980</td>\n",
       "      <td>0.247998</td>\n",
       "      <td>0.771679</td>\n",
       "      <td>0.909412</td>\n",
       "      <td>-0.689281</td>\n",
       "      <td>-0.327642</td>\n",
       "      <td>-0.139097</td>\n",
       "      <td>-0.055353</td>\n",
       "      <td>-0.059752</td>\n",
       "      <td>378.66</td>\n",
       "      <td>0</td>\n",
       "    </tr>\n",
       "    <tr>\n",
       "      <th>3</th>\n",
       "      <td>1.0</td>\n",
       "      <td>-0.966272</td>\n",
       "      <td>-0.185226</td>\n",
       "      <td>1.792993</td>\n",
       "      <td>-0.863291</td>\n",
       "      <td>-0.010309</td>\n",
       "      <td>1.247203</td>\n",
       "      <td>0.237609</td>\n",
       "      <td>0.377436</td>\n",
       "      <td>-1.387024</td>\n",
       "      <td>-0.054952</td>\n",
       "      <td>-0.226487</td>\n",
       "      <td>0.178228</td>\n",
       "      <td>0.507757</td>\n",
       "      <td>-0.287924</td>\n",
       "      <td>-0.631418</td>\n",
       "      <td>-1.059647</td>\n",
       "      <td>-0.684093</td>\n",
       "      <td>1.965775</td>\n",
       "      <td>-1.232622</td>\n",
       "      <td>-0.208038</td>\n",
       "      <td>-0.108300</td>\n",
       "      <td>0.005274</td>\n",
       "      <td>-0.190321</td>\n",
       "      <td>-1.175575</td>\n",
       "      <td>0.647376</td>\n",
       "      <td>-0.221929</td>\n",
       "      <td>0.062723</td>\n",
       "      <td>0.061458</td>\n",
       "      <td>123.50</td>\n",
       "      <td>0</td>\n",
       "    </tr>\n",
       "    <tr>\n",
       "      <th>4</th>\n",
       "      <td>2.0</td>\n",
       "      <td>-1.158233</td>\n",
       "      <td>0.877737</td>\n",
       "      <td>1.548718</td>\n",
       "      <td>0.403034</td>\n",
       "      <td>-0.407193</td>\n",
       "      <td>0.095921</td>\n",
       "      <td>0.592941</td>\n",
       "      <td>-0.270533</td>\n",
       "      <td>0.817739</td>\n",
       "      <td>0.753074</td>\n",
       "      <td>-0.822843</td>\n",
       "      <td>0.538196</td>\n",
       "      <td>1.345852</td>\n",
       "      <td>-1.119670</td>\n",
       "      <td>0.175121</td>\n",
       "      <td>-0.451449</td>\n",
       "      <td>-0.237033</td>\n",
       "      <td>-0.038195</td>\n",
       "      <td>0.803487</td>\n",
       "      <td>0.408542</td>\n",
       "      <td>-0.009431</td>\n",
       "      <td>0.798278</td>\n",
       "      <td>-0.137458</td>\n",
       "      <td>0.141267</td>\n",
       "      <td>-0.206010</td>\n",
       "      <td>0.502292</td>\n",
       "      <td>0.219422</td>\n",
       "      <td>0.215153</td>\n",
       "      <td>69.99</td>\n",
       "      <td>0</td>\n",
       "    </tr>\n",
       "  </tbody>\n",
       "</table>\n",
       "</div>"
      ],
      "text/plain": [
       "   Time        V1        V2        V3        V4        V5        V6        V7  \\\n",
       "0   0.0 -1.359807 -0.072781  2.536347  1.378155 -0.338321  0.462388  0.239599   \n",
       "1   0.0  1.191857  0.266151  0.166480  0.448154  0.060018 -0.082361 -0.078803   \n",
       "2   1.0 -1.358354 -1.340163  1.773209  0.379780 -0.503198  1.800499  0.791461   \n",
       "3   1.0 -0.966272 -0.185226  1.792993 -0.863291 -0.010309  1.247203  0.237609   \n",
       "4   2.0 -1.158233  0.877737  1.548718  0.403034 -0.407193  0.095921  0.592941   \n",
       "\n",
       "         V8        V9       V10       V11       V12       V13       V14  \\\n",
       "0  0.098698  0.363787  0.090794 -0.551600 -0.617801 -0.991390 -0.311169   \n",
       "1  0.085102 -0.255425 -0.166974  1.612727  1.065235  0.489095 -0.143772   \n",
       "2  0.247676 -1.514654  0.207643  0.624501  0.066084  0.717293 -0.165946   \n",
       "3  0.377436 -1.387024 -0.054952 -0.226487  0.178228  0.507757 -0.287924   \n",
       "4 -0.270533  0.817739  0.753074 -0.822843  0.538196  1.345852 -1.119670   \n",
       "\n",
       "        V15       V16       V17       V18       V19       V20       V21  \\\n",
       "0  1.468177 -0.470401  0.207971  0.025791  0.403993  0.251412 -0.018307   \n",
       "1  0.635558  0.463917 -0.114805 -0.183361 -0.145783 -0.069083 -0.225775   \n",
       "2  2.345865 -2.890083  1.109969 -0.121359 -2.261857  0.524980  0.247998   \n",
       "3 -0.631418 -1.059647 -0.684093  1.965775 -1.232622 -0.208038 -0.108300   \n",
       "4  0.175121 -0.451449 -0.237033 -0.038195  0.803487  0.408542 -0.009431   \n",
       "\n",
       "        V22       V23       V24       V25       V26       V27       V28  \\\n",
       "0  0.277838 -0.110474  0.066928  0.128539 -0.189115  0.133558 -0.021053   \n",
       "1 -0.638672  0.101288 -0.339846  0.167170  0.125895 -0.008983  0.014724   \n",
       "2  0.771679  0.909412 -0.689281 -0.327642 -0.139097 -0.055353 -0.059752   \n",
       "3  0.005274 -0.190321 -1.175575  0.647376 -0.221929  0.062723  0.061458   \n",
       "4  0.798278 -0.137458  0.141267 -0.206010  0.502292  0.219422  0.215153   \n",
       "\n",
       "   Amount  Class  \n",
       "0  149.62      0  \n",
       "1    2.69      0  \n",
       "2  378.66      0  \n",
       "3  123.50      0  \n",
       "4   69.99      0  "
      ]
     },
     "execution_count": 45,
     "metadata": {},
     "output_type": "execute_result"
    }
   ],
   "source": [
    "df_under.head()"
   ]
  },
  {
   "cell_type": "markdown",
   "id": "063ddc48-7d6e-4691-994a-28b1447f2165",
   "metadata": {},
   "source": [
    "#### 방법2. sklearn의 train_test_split() 이용"
   ]
  },
  {
   "cell_type": "code",
   "execution_count": 36,
   "id": "1b567262-40e3-4364-bce5-3d26bed2adbe",
   "metadata": {
    "tags": []
   },
   "outputs": [
    {
     "name": "stdout",
     "output_type": "stream",
     "text": [
      "491\n",
      "(983, 31)\n",
      "1    492\n",
      "0    491\n",
      "Name: Class, dtype: int64\n"
     ]
    }
   ],
   "source": [
    "df0 = df[df['Class']==0]\n",
    "df1 = df[df['Class']==1]\n",
    "\n",
    "df0_other, df0_491 = train_test_split(df0, test_size = 491, random_state = 111)\n",
    "print(len(df0_491))\n",
    "\n",
    "dfdf = pd.concat([df1, df0_491], axis = 0 , ignore_index= True)\n",
    "print(dfdf.shape)\n",
    "print(dfdf['Class'].value_counts())"
   ]
  },
  {
   "cell_type": "markdown",
   "id": "877068f6-4d69-448f-9dbe-db7444581ed8",
   "metadata": {},
   "source": [
    "#### 방법3. sklearn의 RandomUnderSampler() 사용\n",
    "- class imblearn.under_sampling.RandomUnderSampler(*, sampling_strategy='auto', random_state=None, replacement=False)"
   ]
  },
  {
   "cell_type": "code",
   "execution_count": 42,
   "id": "5420c299-afeb-4b1a-9df4-9bf8a7437318",
   "metadata": {
    "tags": []
   },
   "outputs": [
    {
     "name": "stdout",
     "output_type": "stream",
     "text": [
      "(984, 31)\n"
     ]
    },
    {
     "data": {
      "text/html": [
       "<div>\n",
       "<style scoped>\n",
       "    .dataframe tbody tr th:only-of-type {\n",
       "        vertical-align: middle;\n",
       "    }\n",
       "\n",
       "    .dataframe tbody tr th {\n",
       "        vertical-align: top;\n",
       "    }\n",
       "\n",
       "    .dataframe thead th {\n",
       "        text-align: right;\n",
       "    }\n",
       "</style>\n",
       "<table border=\"1\" class=\"dataframe\">\n",
       "  <thead>\n",
       "    <tr style=\"text-align: right;\">\n",
       "      <th></th>\n",
       "      <th>Time</th>\n",
       "      <th>V1</th>\n",
       "      <th>V2</th>\n",
       "      <th>V3</th>\n",
       "      <th>V4</th>\n",
       "      <th>V5</th>\n",
       "      <th>V6</th>\n",
       "      <th>V7</th>\n",
       "      <th>V8</th>\n",
       "      <th>V9</th>\n",
       "      <th>V10</th>\n",
       "      <th>V11</th>\n",
       "      <th>V12</th>\n",
       "      <th>V13</th>\n",
       "      <th>V14</th>\n",
       "      <th>V15</th>\n",
       "      <th>V16</th>\n",
       "      <th>V17</th>\n",
       "      <th>V18</th>\n",
       "      <th>V19</th>\n",
       "      <th>V20</th>\n",
       "      <th>V21</th>\n",
       "      <th>V22</th>\n",
       "      <th>V23</th>\n",
       "      <th>V24</th>\n",
       "      <th>V25</th>\n",
       "      <th>V26</th>\n",
       "      <th>V27</th>\n",
       "      <th>V28</th>\n",
       "      <th>Amount</th>\n",
       "      <th>Class</th>\n",
       "    </tr>\n",
       "  </thead>\n",
       "  <tbody>\n",
       "    <tr>\n",
       "      <th>0</th>\n",
       "      <td>63153.0</td>\n",
       "      <td>-0.357434</td>\n",
       "      <td>1.509446</td>\n",
       "      <td>0.151077</td>\n",
       "      <td>1.261251</td>\n",
       "      <td>0.140974</td>\n",
       "      <td>-0.755096</td>\n",
       "      <td>0.738220</td>\n",
       "      <td>0.211872</td>\n",
       "      <td>-1.071702</td>\n",
       "      <td>-0.012199</td>\n",
       "      <td>0.019532</td>\n",
       "      <td>0.839610</td>\n",
       "      <td>1.096308</td>\n",
       "      <td>0.675065</td>\n",
       "      <td>0.864935</td>\n",
       "      <td>-0.977552</td>\n",
       "      <td>0.464042</td>\n",
       "      <td>-0.723566</td>\n",
       "      <td>0.181106</td>\n",
       "      <td>0.053622</td>\n",
       "      <td>0.264193</td>\n",
       "      <td>0.922810</td>\n",
       "      <td>0.142250</td>\n",
       "      <td>0.449895</td>\n",
       "      <td>-0.863967</td>\n",
       "      <td>-0.347555</td>\n",
       "      <td>0.394512</td>\n",
       "      <td>0.245552</td>\n",
       "      <td>20.0</td>\n",
       "      <td>0</td>\n",
       "    </tr>\n",
       "    <tr>\n",
       "      <th>1</th>\n",
       "      <td>130826.0</td>\n",
       "      <td>1.846300</td>\n",
       "      <td>0.364943</td>\n",
       "      <td>0.517735</td>\n",
       "      <td>3.975179</td>\n",
       "      <td>-0.480889</td>\n",
       "      <td>0.004586</td>\n",
       "      <td>-0.461989</td>\n",
       "      <td>0.030844</td>\n",
       "      <td>-0.422210</td>\n",
       "      <td>1.347603</td>\n",
       "      <td>-0.865177</td>\n",
       "      <td>0.428585</td>\n",
       "      <td>0.909862</td>\n",
       "      <td>-0.425782</td>\n",
       "      <td>-0.715392</td>\n",
       "      <td>1.027925</td>\n",
       "      <td>-0.813044</td>\n",
       "      <td>-0.214229</td>\n",
       "      <td>-1.905675</td>\n",
       "      <td>-0.250153</td>\n",
       "      <td>0.207528</td>\n",
       "      <td>0.772237</td>\n",
       "      <td>0.234159</td>\n",
       "      <td>0.460759</td>\n",
       "      <td>-0.260607</td>\n",
       "      <td>-0.002086</td>\n",
       "      <td>0.024106</td>\n",
       "      <td>-0.025635</td>\n",
       "      <td>0.0</td>\n",
       "      <td>0</td>\n",
       "    </tr>\n",
       "  </tbody>\n",
       "</table>\n",
       "</div>"
      ],
      "text/plain": [
       "       Time        V1        V2        V3        V4        V5        V6  \\\n",
       "0   63153.0 -0.357434  1.509446  0.151077  1.261251  0.140974 -0.755096   \n",
       "1  130826.0  1.846300  0.364943  0.517735  3.975179 -0.480889  0.004586   \n",
       "\n",
       "         V7        V8        V9       V10       V11       V12       V13  \\\n",
       "0  0.738220  0.211872 -1.071702 -0.012199  0.019532  0.839610  1.096308   \n",
       "1 -0.461989  0.030844 -0.422210  1.347603 -0.865177  0.428585  0.909862   \n",
       "\n",
       "        V14       V15       V16       V17       V18       V19       V20  \\\n",
       "0  0.675065  0.864935 -0.977552  0.464042 -0.723566  0.181106  0.053622   \n",
       "1 -0.425782 -0.715392  1.027925 -0.813044 -0.214229 -1.905675 -0.250153   \n",
       "\n",
       "        V21       V22       V23       V24       V25       V26       V27  \\\n",
       "0  0.264193  0.922810  0.142250  0.449895 -0.863967 -0.347555  0.394512   \n",
       "1  0.207528  0.772237  0.234159  0.460759 -0.260607 -0.002086  0.024106   \n",
       "\n",
       "        V28  Amount  Class  \n",
       "0  0.245552    20.0      0  \n",
       "1 -0.025635     0.0      0  "
      ]
     },
     "execution_count": 42,
     "metadata": {},
     "output_type": "execute_result"
    }
   ],
   "source": [
    "import imblearn\n",
    "from imblearn.under_sampling import RandomUnderSampler\n",
    "X_ = df.drop('Class',axis=1)\n",
    "y_ = df['Class']\n",
    "\n",
    "X_, y_ = RandomUnderSampler(random_state=111).fit_resample(X_, y_)\n",
    "y_.value_counts()\n",
    "idf = pd.concat([X_,y_],axis=1)\n",
    "\n",
    "print(idf.shape)\n",
    "idf.head(2)"
   ]
  },
  {
   "cell_type": "markdown",
   "id": "0b5eb9be-bb07-4d4a-ba2b-67d490152fe8",
   "metadata": {
    "tags": []
   },
   "source": [
    "### 언더샘플링(df_under) 후 학습& 평가\n",
    "\n",
    "<pre>\n",
    "f1_score : 0.76636\n",
    "정밀도 : 0.75926\n",
    "재현율 : 0.77358\n",
    "accuracy_score : 0.99912"
   ]
  },
  {
   "cell_type": "code",
   "execution_count": 47,
   "id": "95472809-4da4-4f1a-be8e-e899290929de",
   "metadata": {
    "tags": []
   },
   "outputs": [
    {
     "name": "stdout",
     "output_type": "stream",
     "text": [
      "f1_score : 0.76636\n",
      "정밀도 : 0.75926\n",
      "재현율 : 0.77358\n",
      "accuracy_score : 0.99912\n"
     ]
    }
   ],
   "source": [
    "X = df_under.drop('Class', axis = 1)\n",
    "y = df_under['Class']\n",
    "model = DecisionTreeClassifier(random_state=1)\n",
    "X_train,X_test, y_train, y_test = train_test_split(X,y,random_state = 1,test_size=0.2)\n",
    "model.fit(X_train,y_train)\n",
    "pre=model.predict(X_test)\n",
    "score=accuracy_score(y_test, pre)\n",
    "\n",
    "print(f'f1_score : {f1_score(y_test,pre):.5}')\n",
    "print(f'정밀도 : {precision_score(y_test,pre):.5}')\n",
    "print(f'재현율 : {recall_score(y_test,pre):.5}')\n",
    "print(f'accuracy_score : {score:.5}')"
   ]
  },
  {
   "cell_type": "markdown",
   "id": "9d6f9cd3-c77e-4c9f-86af-d896abae08c7",
   "metadata": {},
   "source": [
    "### Over Sampling\n",
    "- 큰 데이터에 맞춘다\n",
    "- 작은 데이터를 크게"
   ]
  },
  {
   "cell_type": "markdown",
   "id": "67946ebf-a765-43a3-9d7b-11c29555de1a",
   "metadata": {},
   "source": [
    "#### sklearn의 SMOTE()\n",
    "- class imblearn.over_sampling.SMOTE(*, sampling_strategy='auto', random_state=None, k_neighbors=5, n_jobs=None)[source]\n"
   ]
  },
  {
   "cell_type": "code",
   "execution_count": 50,
   "id": "6000ab34-5ca9-48ac-9944-94a8ef45714a",
   "metadata": {},
   "outputs": [
    {
     "name": "stdout",
     "output_type": "stream",
     "text": [
      "(568630, 31)\n",
      "0    284315\n",
      "1    284315\n",
      "Name: Class, dtype: int64\n"
     ]
    },
    {
     "data": {
      "text/html": [
       "<div>\n",
       "<style scoped>\n",
       "    .dataframe tbody tr th:only-of-type {\n",
       "        vertical-align: middle;\n",
       "    }\n",
       "\n",
       "    .dataframe tbody tr th {\n",
       "        vertical-align: top;\n",
       "    }\n",
       "\n",
       "    .dataframe thead th {\n",
       "        text-align: right;\n",
       "    }\n",
       "</style>\n",
       "<table border=\"1\" class=\"dataframe\">\n",
       "  <thead>\n",
       "    <tr style=\"text-align: right;\">\n",
       "      <th></th>\n",
       "      <th>Time</th>\n",
       "      <th>V1</th>\n",
       "      <th>V2</th>\n",
       "      <th>V3</th>\n",
       "      <th>V4</th>\n",
       "      <th>V5</th>\n",
       "      <th>V6</th>\n",
       "      <th>V7</th>\n",
       "      <th>V8</th>\n",
       "      <th>V9</th>\n",
       "      <th>V10</th>\n",
       "      <th>V11</th>\n",
       "      <th>V12</th>\n",
       "      <th>V13</th>\n",
       "      <th>V14</th>\n",
       "      <th>V15</th>\n",
       "      <th>V16</th>\n",
       "      <th>V17</th>\n",
       "      <th>V18</th>\n",
       "      <th>V19</th>\n",
       "      <th>V20</th>\n",
       "      <th>V21</th>\n",
       "      <th>V22</th>\n",
       "      <th>V23</th>\n",
       "      <th>V24</th>\n",
       "      <th>V25</th>\n",
       "      <th>V26</th>\n",
       "      <th>V27</th>\n",
       "      <th>V28</th>\n",
       "      <th>Amount</th>\n",
       "      <th>Class</th>\n",
       "    </tr>\n",
       "  </thead>\n",
       "  <tbody>\n",
       "    <tr>\n",
       "      <th>0</th>\n",
       "      <td>0.0</td>\n",
       "      <td>-1.359807</td>\n",
       "      <td>-0.072781</td>\n",
       "      <td>2.536347</td>\n",
       "      <td>1.378155</td>\n",
       "      <td>-0.338321</td>\n",
       "      <td>0.462388</td>\n",
       "      <td>0.239599</td>\n",
       "      <td>0.098698</td>\n",
       "      <td>0.363787</td>\n",
       "      <td>0.090794</td>\n",
       "      <td>-0.551600</td>\n",
       "      <td>-0.617801</td>\n",
       "      <td>-0.991390</td>\n",
       "      <td>-0.311169</td>\n",
       "      <td>1.468177</td>\n",
       "      <td>-0.470401</td>\n",
       "      <td>0.207971</td>\n",
       "      <td>0.025791</td>\n",
       "      <td>0.403993</td>\n",
       "      <td>0.251412</td>\n",
       "      <td>-0.018307</td>\n",
       "      <td>0.277838</td>\n",
       "      <td>-0.110474</td>\n",
       "      <td>0.066928</td>\n",
       "      <td>0.128539</td>\n",
       "      <td>-0.189115</td>\n",
       "      <td>0.133558</td>\n",
       "      <td>-0.021053</td>\n",
       "      <td>149.62</td>\n",
       "      <td>0</td>\n",
       "    </tr>\n",
       "    <tr>\n",
       "      <th>1</th>\n",
       "      <td>0.0</td>\n",
       "      <td>1.191857</td>\n",
       "      <td>0.266151</td>\n",
       "      <td>0.166480</td>\n",
       "      <td>0.448154</td>\n",
       "      <td>0.060018</td>\n",
       "      <td>-0.082361</td>\n",
       "      <td>-0.078803</td>\n",
       "      <td>0.085102</td>\n",
       "      <td>-0.255425</td>\n",
       "      <td>-0.166974</td>\n",
       "      <td>1.612727</td>\n",
       "      <td>1.065235</td>\n",
       "      <td>0.489095</td>\n",
       "      <td>-0.143772</td>\n",
       "      <td>0.635558</td>\n",
       "      <td>0.463917</td>\n",
       "      <td>-0.114805</td>\n",
       "      <td>-0.183361</td>\n",
       "      <td>-0.145783</td>\n",
       "      <td>-0.069083</td>\n",
       "      <td>-0.225775</td>\n",
       "      <td>-0.638672</td>\n",
       "      <td>0.101288</td>\n",
       "      <td>-0.339846</td>\n",
       "      <td>0.167170</td>\n",
       "      <td>0.125895</td>\n",
       "      <td>-0.008983</td>\n",
       "      <td>0.014724</td>\n",
       "      <td>2.69</td>\n",
       "      <td>0</td>\n",
       "    </tr>\n",
       "  </tbody>\n",
       "</table>\n",
       "</div>"
      ],
      "text/plain": [
       "   Time        V1        V2        V3        V4        V5        V6        V7  \\\n",
       "0   0.0 -1.359807 -0.072781  2.536347  1.378155 -0.338321  0.462388  0.239599   \n",
       "1   0.0  1.191857  0.266151  0.166480  0.448154  0.060018 -0.082361 -0.078803   \n",
       "\n",
       "         V8        V9       V10       V11       V12       V13       V14  \\\n",
       "0  0.098698  0.363787  0.090794 -0.551600 -0.617801 -0.991390 -0.311169   \n",
       "1  0.085102 -0.255425 -0.166974  1.612727  1.065235  0.489095 -0.143772   \n",
       "\n",
       "        V15       V16       V17       V18       V19       V20       V21  \\\n",
       "0  1.468177 -0.470401  0.207971  0.025791  0.403993  0.251412 -0.018307   \n",
       "1  0.635558  0.463917 -0.114805 -0.183361 -0.145783 -0.069083 -0.225775   \n",
       "\n",
       "        V22       V23       V24       V25       V26       V27       V28  \\\n",
       "0  0.277838 -0.110474  0.066928  0.128539 -0.189115  0.133558 -0.021053   \n",
       "1 -0.638672  0.101288 -0.339846  0.167170  0.125895 -0.008983  0.014724   \n",
       "\n",
       "   Amount  Class  \n",
       "0  149.62      0  \n",
       "1    2.69      0  "
      ]
     },
     "execution_count": 50,
     "metadata": {},
     "output_type": "execute_result"
    }
   ],
   "source": [
    "import imblearn\n",
    "from imblearn.over_sampling import SMOTE\n",
    "X_ = df.drop('Class',axis=1)\n",
    "y_ = df['Class']\n",
    "\n",
    "X_, y_ = SMOTE(random_state=111).fit_resample(X_, y_)\n",
    "y_.value_counts()\n",
    "df_over = pd.concat([X_,y_],axis=1)\n",
    "\n",
    "print(df_over.shape)\n",
    "print(df_over['Class'].value_counts())\n",
    "df_over.head(2)"
   ]
  },
  {
   "cell_type": "markdown",
   "id": "1ca8f7cf-d9f5-455c-ae6c-984c5139fdf4",
   "metadata": {
    "tags": []
   },
   "source": [
    "### 오버샘플링(df_over) 후 학습& 평가\n",
    "\n",
    "<pre>\n",
    "f1_score : 0.99829\n",
    "정밀도 : 0.99747\n",
    "재현율 : 0.99912\n",
    "accuracy_score : 0.99829"
   ]
  },
  {
   "cell_type": "code",
   "execution_count": 51,
   "id": "bd7a4378-44ff-4a03-9ff2-f260cd312b59",
   "metadata": {
    "tags": []
   },
   "outputs": [
    {
     "name": "stdout",
     "output_type": "stream",
     "text": [
      "f1_score : 0.99829\n",
      "정밀도 : 0.99747\n",
      "재현율 : 0.99912\n",
      "accuracy_score : 0.99829\n"
     ]
    }
   ],
   "source": [
    "X = df_over.drop('Class', axis = 1)\n",
    "y = df_over['Class']\n",
    "model = DecisionTreeClassifier(random_state=1)\n",
    "X_train,X_test, y_train, y_test = train_test_split(X,y,random_state = 1,test_size=0.2)\n",
    "model.fit(X_train,y_train)\n",
    "pre=model.predict(X_test)\n",
    "score=accuracy_score(y_test, pre)\n",
    "\n",
    "print(f'f1_score : {f1_score(y_test,pre):.5}')\n",
    "print(f'정밀도 : {precision_score(y_test,pre):.5}')\n",
    "print(f'재현율 : {recall_score(y_test,pre):.5}')\n",
    "print(f'accuracy_score : {score:.5}')"
   ]
  }
 ],
 "metadata": {
  "kernelspec": {
   "display_name": "Python 3 (ipykernel)",
   "language": "python",
   "name": "python3"
  },
  "language_info": {
   "codemirror_mode": {
    "name": "ipython",
    "version": 3
   },
   "file_extension": ".py",
   "mimetype": "text/x-python",
   "name": "python",
   "nbconvert_exporter": "python",
   "pygments_lexer": "ipython3",
   "version": "3.8.8"
  },
  "toc-autonumbering": true
 },
 "nbformat": 4,
 "nbformat_minor": 5
}
