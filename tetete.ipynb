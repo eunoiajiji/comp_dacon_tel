{
 "cells": [
  {
   "cell_type": "code",
   "execution_count": 1,
   "id": "2b014c76-a420-4448-bb6c-5deb917247a8",
   "metadata": {
    "tags": []
   },
   "outputs": [
    {
     "data": {
      "text/html": [
       "<style>.container{width:100% !important;}</style>"
      ],
      "text/plain": [
       "<IPython.core.display.HTML object>"
      ]
     },
     "metadata": {},
     "output_type": "display_data"
    }
   ],
   "source": [
    "import numpy as np\n",
    "import pandas as pd\n",
    "from pandas.plotting import scatter_matrix\n",
    "from sklearn.preprocessing import Binarizer\n",
    "\n",
    "import matplotlib.pyplot as plt\n",
    "import seaborn as sns\n",
    "\n",
    "sns.set()\n",
    "\n",
    "#-------------------- 차트 관련 속성 (한글처리, 그리드) -----------\n",
    "plt.rcParams['font.family']= 'Malgun Gothic'\n",
    "plt.rcParams['axes.unicode_minus'] = False\n",
    "\n",
    "#-------------------- 주피터 , 출력결과 넓이 늘리기 ---------------\n",
    "# from IPython.core.display import display, HTML\n",
    "from IPython.display import display, HTML\n",
    "\n",
    "display(HTML(\"<style>.container{width:100% !important;}</style>\"))\n",
    "pd.set_option('display.max_rows', 100)\n",
    "pd.set_option('display.max_columns', 100)\n",
    "pd.set_option('max_colwidth', None)\n",
    "\n",
    "import warnings\n",
    "warnings.filterwarnings(action='ignore')"
   ]
  },
  {
   "cell_type": "code",
   "execution_count": 2,
   "id": "7b263792-c4d6-4fd9-a109-e6973f023c95",
   "metadata": {},
   "outputs": [],
   "source": [
    "from sklearn.model_selection import train_test_split, cross_val_score, cross_validate, GridSearchCV, KFold, StratifiedKFold\n",
    "from sklearn.metrics import auc, mean_squared_error, mean_squared_log_error, accuracy_score, f1_score, precision_score, recall_score, classification_report, confusion_matrix\n",
    "from sklearn.preprocessing import RobustScaler, MinMaxScaler, StandardScaler, label_binarize\n",
    "from sklearn.ensemble     import RandomForestClassifier, ExtraTreesClassifier\n",
    "from sklearn.tree         import DecisionTreeClassifier\n",
    "from sklearn.linear_model import Ridge, Lasso, LogisticRegression\n",
    "from sklearn.impute       import SimpleImputer\n",
    "# ---- 추가 모델\n",
    "from sklearn.ensemble     import AdaBoostClassifier, VotingClassifier\n",
    "from xgboost              import XGBClassifier\n",
    "from lightgbm             import LGBMClassifier\n",
    "from catboost             import CatBoostClassifier # -> 카테고리성에서 아주 좋은 성능\n",
    "\n",
    "from imblearn.over_sampling import ADASYN\n"
   ]
  },
  {
   "cell_type": "code",
   "execution_count": 3,
   "id": "2fa3943f-f13c-4586-8416-390a635b275c",
   "metadata": {},
   "outputs": [],
   "source": [
    "df=pd.read_csv('./train.csv')\n",
    "test=pd.read_csv('./test.csv')"
   ]
  },
  {
   "cell_type": "code",
   "execution_count": 4,
   "id": "61015dcd-24b5-466c-a84d-35395c379b81",
   "metadata": {
    "tags": []
   },
   "outputs": [],
   "source": [
    "df=df.drop('ID',axis=1)\n",
    "\n",
    "test=test.drop('ID',axis=1)"
   ]
  },
  {
   "cell_type": "code",
   "execution_count": 5,
   "id": "d855846a-0e0e-4ba7-b3ff-fcbc1151f8c5",
   "metadata": {
    "tags": []
   },
   "outputs": [
    {
     "name": "stdout",
     "output_type": "stream",
     "text": [
      "(26882,) (13441,)\n",
      "(40323, 13)\n"
     ]
    },
    {
     "data": {
      "text/html": [
       "<div>\n",
       "<style scoped>\n",
       "    .dataframe tbody tr th:only-of-type {\n",
       "        vertical-align: middle;\n",
       "    }\n",
       "\n",
       "    .dataframe tbody tr th {\n",
       "        vertical-align: top;\n",
       "    }\n",
       "\n",
       "    .dataframe thead th {\n",
       "        text-align: right;\n",
       "    }\n",
       "</style>\n",
       "<table border=\"1\" class=\"dataframe\">\n",
       "  <thead>\n",
       "    <tr style=\"text-align: right;\">\n",
       "      <th></th>\n",
       "      <th>가입일</th>\n",
       "      <th>음성사서함이용</th>\n",
       "      <th>주간통화시간</th>\n",
       "      <th>주간통화횟수</th>\n",
       "      <th>주간통화요금</th>\n",
       "      <th>저녁통화시간</th>\n",
       "      <th>저녁통화횟수</th>\n",
       "      <th>저녁통화요금</th>\n",
       "      <th>밤통화시간</th>\n",
       "      <th>밤통화횟수</th>\n",
       "      <th>밤통화요금</th>\n",
       "      <th>상담전화건수</th>\n",
       "      <th>전화해지여부</th>\n",
       "    </tr>\n",
       "  </thead>\n",
       "  <tbody>\n",
       "    <tr>\n",
       "      <th>0</th>\n",
       "      <td>329</td>\n",
       "      <td>0</td>\n",
       "      <td>99.2</td>\n",
       "      <td>93</td>\n",
       "      <td>27.3</td>\n",
       "      <td>268.8</td>\n",
       "      <td>68</td>\n",
       "      <td>28.92</td>\n",
       "      <td>262.9</td>\n",
       "      <td>328</td>\n",
       "      <td>32.89</td>\n",
       "      <td>2</td>\n",
       "      <td>0</td>\n",
       "    </tr>\n",
       "    <tr>\n",
       "      <th>1</th>\n",
       "      <td>2</td>\n",
       "      <td>80</td>\n",
       "      <td>323.9</td>\n",
       "      <td>323</td>\n",
       "      <td>83.7</td>\n",
       "      <td>269.4</td>\n",
       "      <td>326</td>\n",
       "      <td>32.09</td>\n",
       "      <td>322.8</td>\n",
       "      <td>209</td>\n",
       "      <td>32.32</td>\n",
       "      <td>2</td>\n",
       "      <td>0</td>\n",
       "    </tr>\n",
       "  </tbody>\n",
       "</table>\n",
       "</div>"
      ],
      "text/plain": [
       "   가입일  음성사서함이용  주간통화시간  주간통화횟수  주간통화요금  저녁통화시간  저녁통화횟수  저녁통화요금  밤통화시간  밤통화횟수  \\\n",
       "0  329        0    99.2      93    27.3   268.8      68   28.92  262.9    328   \n",
       "1    2       80   323.9     323    83.7   269.4     326   32.09  322.8    209   \n",
       "\n",
       "   밤통화요금  상담전화건수  전화해지여부  \n",
       "0  32.89       2       0  \n",
       "1  32.32       2       0  "
      ]
     },
     "execution_count": 5,
     "metadata": {},
     "output_type": "execute_result"
    }
   ],
   "source": [
    "import imblearn\n",
    "from imblearn.over_sampling import SMOTE, ADASYN,RandomOverSampler\n",
    "from imblearn.combine import SMOTETomek\n",
    "\n",
    "# X_, y_ = SMOTE(random_state=111,sampling_strategy=0.4).fit_resample(df, df['전화해지여부'])\n",
    "# y_.value_counts()\n",
    "# df_over = pd.concat([X_,y_],axis=1)\n",
    "\n",
    "# df_over, y_ = ADASYN(random_state=0,sampling_strategy=0.6,n_neighbors=3).fit_resample(df, df['전화해지여부'])\n",
    "# print(y_[y_==0].shape,y_[y_==1].shape)\n",
    "\n",
    "# df, y_ = SMOTETomek(random_state=0,sampling_strategy=0.8).fit_resample(df, df['전화해지여부'])\n",
    "# print(y_[y_==0].shape,y_[y_==1].shape)\n",
    "\n",
    "df, y_ = RandomOverSampler(random_state=0,sampling_strategy=0.5).fit_resample(df, df['전화해지여부'])\n",
    "print(y_[y_==0].shape,y_[y_==1].shape)\n",
    "\n",
    "print(df.shape)\n",
    "df.head(2)"
   ]
  },
  {
   "cell_type": "code",
   "execution_count": 6,
   "id": "15ac8f6e-1e9f-48fb-b70d-5b834c555147",
   "metadata": {},
   "outputs": [],
   "source": [
    "# df['주간시간당요금']=np.where(df['주간통화시간']==0,df['주간통화요금'],df['주간통화요금']/df['주간통화시간'])\n",
    "# df['저녁시간당요금']=np.where(df['저녁통화시간']==0,df['저녁통화요금'],df['저녁통화요금']/df['저녁통화시간'])\n",
    "# df['밤시간당요금']=np.where(df['밤통화시간']==0,df['밤통화요금'],df['밤통화요금']/df['밤통화시간'])\n",
    "# df['가입월'] = round(np.floor(df['가입일'] / 30) - (  ( np.floor(df['가입일'] / 30) / 12).astype(int) * 12  ),4)\n",
    "# df['총통화요금'] = df['주간통화요금']+ df['저녁통화요금']+df['밤통화요금']\n",
    "# df['월별요금']=df['총통화요금'] /(df['가입월']+1)\n",
    "\n",
    "# test['월별요금']=test['총통화요금'] /(test['가입월']+1)\n",
    "# test['총통화요금'] = test['주간통화요금']+ test['저녁통화요금']+test['밤통화요금']\n",
    "# test['가입월'] = round(np.floor(test['가입일'] / 30) - (  ( np.floor(test['가입일'] / 30) / 12).astype(int) * 12  ),4)\n",
    "# test['밤시간당요금']=np.where(test['밤통화시간']==0,test['밤통화요금'],test['밤통화요금']/test['밤통화시간'])\n",
    "# test['저녁시간당요금']=np.where(test['저녁통화시간']==0,test['저녁통화요금'],test['저녁통화요금']/test['저녁통화시간'])\n",
    "# test['주간시간당요금']=np.where(test['주간통화시간']==0,test['주간통화요금'],test['주간통화요금']/test['주간통화시간'])\n",
    "\n",
    "# df = df.drop(['주간통화요금','저녁통화요금','밤통화요금','총통화요금'],axis=1)\n",
    "# test = test.drop(['주간통화요금','저녁통화요금','밤통화요금','총통화요금'],axis=1)"
   ]
  },
  {
   "cell_type": "code",
   "execution_count": 7,
   "id": "698621ee-5a0a-4fed-ace9-fd1d129ec0ea",
   "metadata": {},
   "outputs": [
    {
     "data": {
      "text/plain": [
       "Index(['가입일', '음성사서함이용', '주간통화시간', '주간통화횟수', '주간통화요금', '저녁통화시간', '저녁통화횟수',\n",
       "       '저녁통화요금', '밤통화시간', '밤통화횟수', '밤통화요금', '상담전화건수', '전화해지여부'],\n",
       "      dtype='object')"
      ]
     },
     "execution_count": 7,
     "metadata": {},
     "output_type": "execute_result"
    }
   ],
   "source": [
    "df.columns"
   ]
  },
  {
   "cell_type": "code",
   "execution_count": 8,
   "id": "d1ffbac5-da50-4258-8e6e-d230ed383b43",
   "metadata": {
    "tags": []
   },
   "outputs": [
    {
     "name": "stdout",
     "output_type": "stream",
     "text": [
      "f1_score : 0.97003\n",
      "정밀도 : 0.9533\n",
      "재현율 : 0.98735\n",
      "accuracy_score : 0.97967\n"
     ]
    }
   ],
   "source": [
    "X = df.drop(['전화해지여부'], axis = 1)\n",
    "y = df['전화해지여부']\n",
    "# model = ExtraTreesClassifier(max_depth=60, n_estimators=200, random_state=1)\n",
    "# model = XGBClassifier(max_depth=10, n_estimators= 300, random_state=1)\n",
    "model = RandomForestClassifier(max_depth=100, min_samples_leaf=1, n_estimators=200, random_state=1)\n",
    "\n",
    "X_train,X_test, y_train, y_test = train_test_split(X,y,random_state = 1,test_size=0.2)\n",
    "model.fit(X_train,y_train)\n",
    "pre=model.predict(X_test)\n",
    "score=accuracy_score(y_test, pre)\n",
    "\n",
    "print(f'f1_score : {f1_score(y_test,pre):.5}')\n",
    "print(f'정밀도 : {precision_score(y_test,pre):.5}')\n",
    "print(f'재현율 : {recall_score(y_test,pre):.5}')\n",
    "print(f'accuracy_score : {score:.5}')"
   ]
  },
  {
   "cell_type": "code",
   "execution_count": 9,
   "id": "7e05ceef-0a7b-4ee9-aa0b-66172f82f597",
   "metadata": {},
   "outputs": [],
   "source": [
    "proba = model.predict_proba(X_test)"
   ]
  },
  {
   "cell_type": "code",
   "execution_count": 10,
   "id": "ee6ee74b-d125-4970-858d-3bb06fb0733f",
   "metadata": {},
   "outputs": [
    {
     "name": "stdout",
     "output_type": "stream",
     "text": [
      "0.35\n",
      "[[5176  201]\n",
      " [  24 2664]]\n",
      "0.45\n",
      "[[5230  147]\n",
      " [  30 2658]]\n",
      "0.5\n",
      "[[5247  130]\n",
      " [  34 2654]]\n"
     ]
    }
   ],
   "source": [
    "proba_c1 = proba[:,1]\n",
    "\n",
    "th_list = [0.35, .45 , .5]\n",
    "for th in th_list:\n",
    "    print(th)\n",
    "    brz = Binarizer(threshold=th)\n",
    "    th_pred = brz.fit_transform(proba_c1.reshape(-1,1))\n",
    "    print(confusion_matrix(y_test, th_pred))"
   ]
  },
  {
   "cell_type": "code",
   "execution_count": 11,
   "id": "2a268208-21e9-40cc-a0c7-3c0507179ed2",
   "metadata": {
    "tags": []
   },
   "outputs": [
    {
     "data": {
      "text/html": [
       "<div>\n",
       "<style scoped>\n",
       "    .dataframe tbody tr th:only-of-type {\n",
       "        vertical-align: middle;\n",
       "    }\n",
       "\n",
       "    .dataframe tbody tr th {\n",
       "        vertical-align: top;\n",
       "    }\n",
       "\n",
       "    .dataframe thead th {\n",
       "        text-align: right;\n",
       "    }\n",
       "</style>\n",
       "<table border=\"1\" class=\"dataframe\">\n",
       "  <thead>\n",
       "    <tr style=\"text-align: right;\">\n",
       "      <th></th>\n",
       "      <th>ID</th>\n",
       "      <th>전화해지여부</th>\n",
       "    </tr>\n",
       "  </thead>\n",
       "  <tbody>\n",
       "    <tr>\n",
       "      <th>0</th>\n",
       "      <td>TEST_00000</td>\n",
       "      <td>0</td>\n",
       "    </tr>\n",
       "  </tbody>\n",
       "</table>\n",
       "</div>"
      ],
      "text/plain": [
       "           ID  전화해지여부\n",
       "0  TEST_00000       0"
      ]
     },
     "execution_count": 11,
     "metadata": {},
     "output_type": "execute_result"
    }
   ],
   "source": [
    "s = pd.read_csv('./sample_submission.csv')\n",
    "s.head(1)"
   ]
  },
  {
   "cell_type": "code",
   "execution_count": 12,
   "id": "2bd30f08-402e-4494-a65b-b6ac17d9dea2",
   "metadata": {
    "tags": []
   },
   "outputs": [
    {
     "data": {
      "text/html": [
       "<div>\n",
       "<style scoped>\n",
       "    .dataframe tbody tr th:only-of-type {\n",
       "        vertical-align: middle;\n",
       "    }\n",
       "\n",
       "    .dataframe tbody tr th {\n",
       "        vertical-align: top;\n",
       "    }\n",
       "\n",
       "    .dataframe thead th {\n",
       "        text-align: right;\n",
       "    }\n",
       "</style>\n",
       "<table border=\"1\" class=\"dataframe\">\n",
       "  <thead>\n",
       "    <tr style=\"text-align: right;\">\n",
       "      <th></th>\n",
       "      <th>ID</th>\n",
       "      <th>전화해지여부</th>\n",
       "    </tr>\n",
       "  </thead>\n",
       "  <tbody>\n",
       "    <tr>\n",
       "      <th>0</th>\n",
       "      <td>TEST_00000</td>\n",
       "      <td>0</td>\n",
       "    </tr>\n",
       "    <tr>\n",
       "      <th>1</th>\n",
       "      <td>TEST_00001</td>\n",
       "      <td>0</td>\n",
       "    </tr>\n",
       "    <tr>\n",
       "      <th>2</th>\n",
       "      <td>TEST_00002</td>\n",
       "      <td>0</td>\n",
       "    </tr>\n",
       "    <tr>\n",
       "      <th>3</th>\n",
       "      <td>TEST_00003</td>\n",
       "      <td>1</td>\n",
       "    </tr>\n",
       "    <tr>\n",
       "      <th>4</th>\n",
       "      <td>TEST_00004</td>\n",
       "      <td>1</td>\n",
       "    </tr>\n",
       "  </tbody>\n",
       "</table>\n",
       "</div>"
      ],
      "text/plain": [
       "           ID  전화해지여부\n",
       "0  TEST_00000       0\n",
       "1  TEST_00001       0\n",
       "2  TEST_00002       0\n",
       "3  TEST_00003       1\n",
       "4  TEST_00004       1"
      ]
     },
     "execution_count": 12,
     "metadata": {},
     "output_type": "execute_result"
    }
   ],
   "source": [
    "s['전화해지여부']=model.predict(test)\n",
    "s.head()"
   ]
  },
  {
   "cell_type": "code",
   "execution_count": 13,
   "id": "ac96a056-c205-4729-b079-698e7a0a416f",
   "metadata": {
    "tags": []
   },
   "outputs": [],
   "source": [
    "s.to_csv(\"tt.csv\", index=False)"
   ]
  },
  {
   "cell_type": "markdown",
   "id": "e1bd00e5-dc43-43c9-aae2-766d8b049838",
   "metadata": {},
   "source": [
    "# automl 코드"
   ]
  },
  {
   "cell_type": "code",
   "execution_count": null,
   "id": "e1c46ada-d2a9-4ed0-8dfb-af4338d1284d",
   "metadata": {},
   "outputs": [],
   "source": [
    "# import pandas as pd\n",
    "# from sklearn.model_selection import train_test_split\n",
    "# from supervised.automl import AutoML\n",
    "\n",
    "# df = pd.read_csv(\n",
    "#     \"https://raw.githubusercontent.com/pplonski/datasets-for-start/master/adult/data.csv\",\n",
    "#     skipinitialspace=True,\n",
    "# )\n",
    "# X_train, X_test, y_train, y_test = train_test_split(\n",
    "#     df[df.columns[:-1]], df[\"income\"], test_size=0.25\n",
    "# )\n",
    "\n",
    "# automl = AutoML()\n",
    "# automl.fit(X_train, y_train)\n",
    "\n",
    "# predictions = automl.predict(X_test)"
   ]
  },
  {
   "cell_type": "code",
   "execution_count": 16,
   "id": "56ea7621-f754-4983-b149-e901883fff83",
   "metadata": {
    "tags": []
   },
   "outputs": [
    {
     "data": {
      "text/html": [
       "<div>\n",
       "<style scoped>\n",
       "    .dataframe tbody tr th:only-of-type {\n",
       "        vertical-align: middle;\n",
       "    }\n",
       "\n",
       "    .dataframe tbody tr th {\n",
       "        vertical-align: top;\n",
       "    }\n",
       "\n",
       "    .dataframe thead th {\n",
       "        text-align: right;\n",
       "    }\n",
       "</style>\n",
       "<table border=\"1\" class=\"dataframe\">\n",
       "  <thead>\n",
       "    <tr style=\"text-align: right;\">\n",
       "      <th></th>\n",
       "      <th>ID</th>\n",
       "      <th>해지여부</th>\n",
       "    </tr>\n",
       "  </thead>\n",
       "  <tbody>\n",
       "    <tr>\n",
       "      <th>0</th>\n",
       "      <td>TEST_00000</td>\n",
       "      <td>0</td>\n",
       "    </tr>\n",
       "    <tr>\n",
       "      <th>1</th>\n",
       "      <td>TEST_00001</td>\n",
       "      <td>0</td>\n",
       "    </tr>\n",
       "    <tr>\n",
       "      <th>2</th>\n",
       "      <td>TEST_00002</td>\n",
       "      <td>0</td>\n",
       "    </tr>\n",
       "    <tr>\n",
       "      <th>3</th>\n",
       "      <td>TEST_00003</td>\n",
       "      <td>1</td>\n",
       "    </tr>\n",
       "    <tr>\n",
       "      <th>4</th>\n",
       "      <td>TEST_00004</td>\n",
       "      <td>1</td>\n",
       "    </tr>\n",
       "  </tbody>\n",
       "</table>\n",
       "</div>"
      ],
      "text/plain": [
       "           ID  해지여부\n",
       "0  TEST_00000     0\n",
       "1  TEST_00001     0\n",
       "2  TEST_00002     0\n",
       "3  TEST_00003     1\n",
       "4  TEST_00004     1"
      ]
     },
     "execution_count": 16,
     "metadata": {},
     "output_type": "execute_result"
    }
   ],
   "source": [
    "test_y = pd.read_csv('./automl_가답.csv', encoding='cp949')\n",
    "test_y.head()"
   ]
  }
 ],
 "metadata": {
  "kernelspec": {
   "display_name": "Python 3 (ipykernel)",
   "language": "python",
   "name": "python3"
  },
  "language_info": {
   "codemirror_mode": {
    "name": "ipython",
    "version": 3
   },
   "file_extension": ".py",
   "mimetype": "text/x-python",
   "name": "python",
   "nbconvert_exporter": "python",
   "pygments_lexer": "ipython3",
   "version": "3.8.8"
  }
 },
 "nbformat": 4,
 "nbformat_minor": 5
}
